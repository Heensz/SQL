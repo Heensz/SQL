{
 "cells": [
  {
   "cell_type": "code",
   "execution_count": 2,
   "metadata": {},
   "outputs": [],
   "source": [
    "# импортируем библиотеки\n",
    "import pandas as pd\n",
    "from sqlalchemy import create_engine"
   ]
  },
  {
   "cell_type": "code",
   "execution_count": 3,
   "metadata": {},
   "outputs": [
    {
     "name": "stdout",
     "output_type": "stream",
     "text": [
      "Collecting SQLAlchemy==1.4\n",
      "  Downloading SQLAlchemy-1.4.0-cp39-cp39-manylinux2014_x86_64.whl (1.5 MB)\n",
      "\u001b[K     |████████████████████████████████| 1.5 MB 1.8 MB/s eta 0:00:01\n",
      "\u001b[?25hRequirement already satisfied: greenlet!=0.4.17 in /opt/conda/lib/python3.9/site-packages (from SQLAlchemy==1.4) (1.1.0)\n",
      "Installing collected packages: SQLAlchemy\n",
      "  Attempting uninstall: SQLAlchemy\n",
      "    Found existing installation: SQLAlchemy 1.4.20\n",
      "    Uninstalling SQLAlchemy-1.4.20:\n",
      "      Successfully uninstalled SQLAlchemy-1.4.20\n",
      "Successfully installed SQLAlchemy-1.4.15\n"
     ]
    }
   ],
   "source": [
    "!pip install SQLAlchemy==1.4"
   ]
  },
  {
   "attachments": {},
   "cell_type": "markdown",
   "metadata": {},
   "source": [
    "# Проект по SQL "
   ]
  },
  {
   "attachments": {},
   "cell_type": "markdown",
   "metadata": {},
   "source": [
    "Цели исследования: проанализировать базу данных.\n",
    "\n",
    "Описание данных: в базе данных хранятся таблицы с информацией о книгах, издательствах, авторах, а также пользовательские обзоры книг. \n",
    "\n",
    "Задачи исследования: \n",
    "* Посчитать, сколько книг вышло после 1 января 2000 года;\n",
    "* Для каждой книги посчитать количество обзоров и среднюю оценку;\n",
    "* Определить издательство, которое выпустило наибольшее число книг толще 50 страниц — так вы исключите из анализа брошюры;\n",
    "* Определить автора с самой высокой средней оценкой книг — учитывайте только книги с 50 и более оценками;\n",
    "* Посчитайть среднее количество обзоров от пользователей, которые поставили больше 50 оценок."
   ]
  },
  {
   "cell_type": "code",
   "execution_count": 4,
   "metadata": {},
   "outputs": [
    {
     "data": {
      "text/html": [
       "<div>\n",
       "<style scoped>\n",
       "    .dataframe tbody tr th:only-of-type {\n",
       "        vertical-align: middle;\n",
       "    }\n",
       "\n",
       "    .dataframe tbody tr th {\n",
       "        vertical-align: top;\n",
       "    }\n",
       "\n",
       "    .dataframe thead th {\n",
       "        text-align: right;\n",
       "    }\n",
       "</style>\n",
       "<table border=\"1\" class=\"dataframe\">\n",
       "  <thead>\n",
       "    <tr style=\"text-align: right;\">\n",
       "      <th></th>\n",
       "      <th>?column?</th>\n",
       "    </tr>\n",
       "  </thead>\n",
       "  <tbody>\n",
       "    <tr>\n",
       "      <th>0</th>\n",
       "      <td>1</td>\n",
       "    </tr>\n",
       "  </tbody>\n",
       "</table>\n",
       "</div>"
      ],
      "text/plain": [
       "   ?column?\n",
       "0         1"
      ]
     },
     "execution_count": 4,
     "metadata": {},
     "output_type": "execute_result"
    }
   ],
   "source": [
    "# устанавливаем параметры\n",
    "db_config = {'user': 'praktikum_student', # имя пользователя\n",
    "'pwd': 'Sdf4$2;d-d30pp', # пароль\n",
    "'host': 'rc1b-wcoijxj3yxfsf3fs.mdb.yandexcloud.net',\n",
    "'port': 6432, # порт подключения\n",
    "'db': 'data-analyst-final-project-db'} # название базы данных\n",
    "connection_string = 'postgresql://{}:{}@{}:{}/{}'.format(db_config['user'],\n",
    " db_config['pwd'],\n",
    " db_config['host'],\n",
    " db_config['port'],\n",
    " db_config['db'])\n",
    "# сохраняем коннектор\n",
    "engine = create_engine(connection_string, connect_args={'sslmode':'require'}) \n",
    "query = 'select 1'\n",
    "pd.io.sql.read_sql(query, con = engine)"
   ]
  },
  {
   "cell_type": "code",
   "execution_count": 5,
   "metadata": {
    "scrolled": false
   },
   "outputs": [
    {
     "data": {
      "text/html": [
       "<div>\n",
       "<style scoped>\n",
       "    .dataframe tbody tr th:only-of-type {\n",
       "        vertical-align: middle;\n",
       "    }\n",
       "\n",
       "    .dataframe tbody tr th {\n",
       "        vertical-align: top;\n",
       "    }\n",
       "\n",
       "    .dataframe thead th {\n",
       "        text-align: right;\n",
       "    }\n",
       "</style>\n",
       "<table border=\"1\" class=\"dataframe\">\n",
       "  <thead>\n",
       "    <tr style=\"text-align: right;\">\n",
       "      <th></th>\n",
       "      <th>book_id</th>\n",
       "      <th>author_id</th>\n",
       "      <th>title</th>\n",
       "      <th>num_pages</th>\n",
       "      <th>publication_date</th>\n",
       "      <th>publisher_id</th>\n",
       "    </tr>\n",
       "  </thead>\n",
       "  <tbody>\n",
       "    <tr>\n",
       "      <th>0</th>\n",
       "      <td>1</td>\n",
       "      <td>546</td>\n",
       "      <td>'Salem's Lot</td>\n",
       "      <td>594</td>\n",
       "      <td>2005-11-01</td>\n",
       "      <td>93</td>\n",
       "    </tr>\n",
       "  </tbody>\n",
       "</table>\n",
       "</div>"
      ],
      "text/plain": [
       "   book_id  author_id         title  num_pages publication_date  publisher_id\n",
       "0        1        546  'Salem's Lot        594       2005-11-01            93"
      ]
     },
     "execution_count": 5,
     "metadata": {},
     "output_type": "execute_result"
    }
   ],
   "source": [
    "#выведем первые строки таблицы books\n",
    "books = 'SELECT * FROM books LIMIT 1'\n",
    "pd.io.sql.read_sql(books, con = engine)"
   ]
  },
  {
   "cell_type": "code",
   "execution_count": 6,
   "metadata": {},
   "outputs": [
    {
     "data": {
      "text/html": [
       "<div>\n",
       "<style scoped>\n",
       "    .dataframe tbody tr th:only-of-type {\n",
       "        vertical-align: middle;\n",
       "    }\n",
       "\n",
       "    .dataframe tbody tr th {\n",
       "        vertical-align: top;\n",
       "    }\n",
       "\n",
       "    .dataframe thead th {\n",
       "        text-align: right;\n",
       "    }\n",
       "</style>\n",
       "<table border=\"1\" class=\"dataframe\">\n",
       "  <thead>\n",
       "    <tr style=\"text-align: right;\">\n",
       "      <th></th>\n",
       "      <th>author_id</th>\n",
       "      <th>author</th>\n",
       "    </tr>\n",
       "  </thead>\n",
       "  <tbody>\n",
       "    <tr>\n",
       "      <th>0</th>\n",
       "      <td>1</td>\n",
       "      <td>A.S. Byatt</td>\n",
       "    </tr>\n",
       "  </tbody>\n",
       "</table>\n",
       "</div>"
      ],
      "text/plain": [
       "   author_id      author\n",
       "0          1  A.S. Byatt"
      ]
     },
     "execution_count": 6,
     "metadata": {},
     "output_type": "execute_result"
    }
   ],
   "source": [
    "#выведем первые строки таблицы authors\n",
    "authors = 'SELECT * FROM authors LIMIT 1'\n",
    "pd.io.sql.read_sql(authors, con = engine)"
   ]
  },
  {
   "cell_type": "code",
   "execution_count": 7,
   "metadata": {},
   "outputs": [
    {
     "data": {
      "text/html": [
       "<div>\n",
       "<style scoped>\n",
       "    .dataframe tbody tr th:only-of-type {\n",
       "        vertical-align: middle;\n",
       "    }\n",
       "\n",
       "    .dataframe tbody tr th {\n",
       "        vertical-align: top;\n",
       "    }\n",
       "\n",
       "    .dataframe thead th {\n",
       "        text-align: right;\n",
       "    }\n",
       "</style>\n",
       "<table border=\"1\" class=\"dataframe\">\n",
       "  <thead>\n",
       "    <tr style=\"text-align: right;\">\n",
       "      <th></th>\n",
       "      <th>publisher_id</th>\n",
       "      <th>publisher</th>\n",
       "    </tr>\n",
       "  </thead>\n",
       "  <tbody>\n",
       "    <tr>\n",
       "      <th>0</th>\n",
       "      <td>1</td>\n",
       "      <td>Ace</td>\n",
       "    </tr>\n",
       "  </tbody>\n",
       "</table>\n",
       "</div>"
      ],
      "text/plain": [
       "   publisher_id publisher\n",
       "0             1       Ace"
      ]
     },
     "execution_count": 7,
     "metadata": {},
     "output_type": "execute_result"
    }
   ],
   "source": [
    "#выведем первые строки таблицы publishers\n",
    "publishers = 'SELECT * FROM publishers LIMIT 1'\n",
    "pd.io.sql.read_sql(publishers, con = engine)"
   ]
  },
  {
   "cell_type": "code",
   "execution_count": 8,
   "metadata": {},
   "outputs": [
    {
     "data": {
      "text/html": [
       "<div>\n",
       "<style scoped>\n",
       "    .dataframe tbody tr th:only-of-type {\n",
       "        vertical-align: middle;\n",
       "    }\n",
       "\n",
       "    .dataframe tbody tr th {\n",
       "        vertical-align: top;\n",
       "    }\n",
       "\n",
       "    .dataframe thead th {\n",
       "        text-align: right;\n",
       "    }\n",
       "</style>\n",
       "<table border=\"1\" class=\"dataframe\">\n",
       "  <thead>\n",
       "    <tr style=\"text-align: right;\">\n",
       "      <th></th>\n",
       "      <th>rating_id</th>\n",
       "      <th>book_id</th>\n",
       "      <th>username</th>\n",
       "      <th>rating</th>\n",
       "    </tr>\n",
       "  </thead>\n",
       "  <tbody>\n",
       "    <tr>\n",
       "      <th>0</th>\n",
       "      <td>1</td>\n",
       "      <td>1</td>\n",
       "      <td>ryanfranco</td>\n",
       "      <td>4</td>\n",
       "    </tr>\n",
       "  </tbody>\n",
       "</table>\n",
       "</div>"
      ],
      "text/plain": [
       "   rating_id  book_id    username  rating\n",
       "0          1        1  ryanfranco       4"
      ]
     },
     "execution_count": 8,
     "metadata": {},
     "output_type": "execute_result"
    }
   ],
   "source": [
    "#выведем первые строки таблицы ratings\n",
    "ratings = 'SELECT * FROM ratings LIMIT 1'\n",
    "pd.io.sql.read_sql(ratings, con = engine)"
   ]
  },
  {
   "cell_type": "code",
   "execution_count": 9,
   "metadata": {},
   "outputs": [
    {
     "data": {
      "text/html": [
       "<div>\n",
       "<style scoped>\n",
       "    .dataframe tbody tr th:only-of-type {\n",
       "        vertical-align: middle;\n",
       "    }\n",
       "\n",
       "    .dataframe tbody tr th {\n",
       "        vertical-align: top;\n",
       "    }\n",
       "\n",
       "    .dataframe thead th {\n",
       "        text-align: right;\n",
       "    }\n",
       "</style>\n",
       "<table border=\"1\" class=\"dataframe\">\n",
       "  <thead>\n",
       "    <tr style=\"text-align: right;\">\n",
       "      <th></th>\n",
       "      <th>review_id</th>\n",
       "      <th>book_id</th>\n",
       "      <th>username</th>\n",
       "      <th>text</th>\n",
       "    </tr>\n",
       "  </thead>\n",
       "  <tbody>\n",
       "    <tr>\n",
       "      <th>0</th>\n",
       "      <td>1</td>\n",
       "      <td>1</td>\n",
       "      <td>brandtandrea</td>\n",
       "      <td>Mention society tell send professor analysis. ...</td>\n",
       "    </tr>\n",
       "  </tbody>\n",
       "</table>\n",
       "</div>"
      ],
      "text/plain": [
       "   review_id  book_id      username  \\\n",
       "0          1        1  brandtandrea   \n",
       "\n",
       "                                                text  \n",
       "0  Mention society tell send professor analysis. ...  "
      ]
     },
     "execution_count": 9,
     "metadata": {},
     "output_type": "execute_result"
    }
   ],
   "source": [
    "#выведем первые строки таблицы reviews\n",
    "reviews = 'SELECT * FROM reviews LIMIT 1'\n",
    "pd.io.sql.read_sql(reviews, con = engine)"
   ]
  },
  {
   "cell_type": "code",
   "execution_count": 10,
   "metadata": {},
   "outputs": [
    {
     "data": {
      "text/html": [
       "<div>\n",
       "<style scoped>\n",
       "    .dataframe tbody tr th:only-of-type {\n",
       "        vertical-align: middle;\n",
       "    }\n",
       "\n",
       "    .dataframe tbody tr th {\n",
       "        vertical-align: top;\n",
       "    }\n",
       "\n",
       "    .dataframe thead th {\n",
       "        text-align: right;\n",
       "    }\n",
       "</style>\n",
       "<table border=\"1\" class=\"dataframe\">\n",
       "  <thead>\n",
       "    <tr style=\"text-align: right;\">\n",
       "      <th></th>\n",
       "      <th>count</th>\n",
       "      <th>book_id</th>\n",
       "      <th>author_id</th>\n",
       "      <th>title</th>\n",
       "    </tr>\n",
       "  </thead>\n",
       "  <tbody>\n",
       "    <tr>\n",
       "      <th>0</th>\n",
       "      <td>1000</td>\n",
       "      <td>1000</td>\n",
       "      <td>636</td>\n",
       "      <td>999</td>\n",
       "    </tr>\n",
       "  </tbody>\n",
       "</table>\n",
       "</div>"
      ],
      "text/plain": [
       "   count  book_id  author_id  title\n",
       "0   1000     1000        636    999"
      ]
     },
     "execution_count": 10,
     "metadata": {},
     "output_type": "execute_result"
    }
   ],
   "source": [
    "#Так как главной сущностью схемы является таблица books - проверим распределение данных в части столбцов на уникальность\n",
    "unique_check = 'SELECT count(*), count(distinct book_id) as book_id, count(distinct author_id) as author_id,count(distinct title) as title from books'\n",
    "pd.io.sql.read_sql(unique_check, con = engine)"
   ]
  },
  {
   "attachments": {},
   "cell_type": "markdown",
   "metadata": {},
   "source": [
    "**book_id** ожидаемо уникальное поле, **author_id** ожидаемо не уникальное (есть повторы), в **title** есть один повтор. \n",
    "Найдем его:"
   ]
  },
  {
   "cell_type": "code",
   "execution_count": 11,
   "metadata": {},
   "outputs": [
    {
     "data": {
      "text/html": [
       "<div>\n",
       "<style scoped>\n",
       "    .dataframe tbody tr th:only-of-type {\n",
       "        vertical-align: middle;\n",
       "    }\n",
       "\n",
       "    .dataframe tbody tr th {\n",
       "        vertical-align: top;\n",
       "    }\n",
       "\n",
       "    .dataframe thead th {\n",
       "        text-align: right;\n",
       "    }\n",
       "</style>\n",
       "<table border=\"1\" class=\"dataframe\">\n",
       "  <thead>\n",
       "    <tr style=\"text-align: right;\">\n",
       "      <th></th>\n",
       "      <th>book_id</th>\n",
       "      <th>author_id</th>\n",
       "      <th>title</th>\n",
       "      <th>num_pages</th>\n",
       "      <th>publication_date</th>\n",
       "      <th>publisher_id</th>\n",
       "    </tr>\n",
       "  </thead>\n",
       "  <tbody>\n",
       "    <tr>\n",
       "      <th>0</th>\n",
       "      <td>426</td>\n",
       "      <td>39</td>\n",
       "      <td>Memoirs of a Geisha</td>\n",
       "      <td>434</td>\n",
       "      <td>2005-11-15</td>\n",
       "      <td>241</td>\n",
       "    </tr>\n",
       "    <tr>\n",
       "      <th>1</th>\n",
       "      <td>427</td>\n",
       "      <td>39</td>\n",
       "      <td>Memoirs of a Geisha</td>\n",
       "      <td>503</td>\n",
       "      <td>2005-11-22</td>\n",
       "      <td>311</td>\n",
       "    </tr>\n",
       "  </tbody>\n",
       "</table>\n",
       "</div>"
      ],
      "text/plain": [
       "   book_id  author_id                title  num_pages publication_date  \\\n",
       "0      426         39  Memoirs of a Geisha        434       2005-11-15   \n",
       "1      427         39  Memoirs of a Geisha        503       2005-11-22   \n",
       "\n",
       "   publisher_id  \n",
       "0           241  \n",
       "1           311  "
      ]
     },
     "execution_count": 11,
     "metadata": {},
     "output_type": "execute_result"
    }
   ],
   "source": [
    "duplicate_check = 'select * from books where title in (SELECT title from books group by title having count(title)>1)'\n",
    "pd.io.sql.read_sql(duplicate_check, con = engine)"
   ]
  },
  {
   "attachments": {},
   "cell_type": "markdown",
   "metadata": {},
   "source": [
    "У книги один автор, одно название, но разные годы публикации и разные издатели. Будем учитывать это при построении запросов."
   ]
  },
  {
   "cell_type": "code",
   "execution_count": 21,
   "metadata": {
    "scrolled": false
   },
   "outputs": [
    {
     "data": {
      "text/html": [
       "<div>\n",
       "<style scoped>\n",
       "    .dataframe tbody tr th:only-of-type {\n",
       "        vertical-align: middle;\n",
       "    }\n",
       "\n",
       "    .dataframe tbody tr th {\n",
       "        vertical-align: top;\n",
       "    }\n",
       "\n",
       "    .dataframe thead th {\n",
       "        text-align: right;\n",
       "    }\n",
       "</style>\n",
       "<table border=\"1\" class=\"dataframe\">\n",
       "  <thead>\n",
       "    <tr style=\"text-align: right;\">\n",
       "      <th></th>\n",
       "      <th>count</th>\n",
       "    </tr>\n",
       "  </thead>\n",
       "  <tbody>\n",
       "    <tr>\n",
       "      <th>0</th>\n",
       "      <td>819</td>\n",
       "    </tr>\n",
       "  </tbody>\n",
       "</table>\n",
       "</div>"
      ],
      "text/plain": [
       "   count\n",
       "0    819"
      ]
     },
     "execution_count": 21,
     "metadata": {},
     "output_type": "execute_result"
    }
   ],
   "source": [
    "#Посчитайте, сколько книг вышло после 1 января 2000 года;\n",
    "books_count_query= '''SELECT COUNT(book_id)\n",
    "                       FROM books \n",
    "                       WHERE publication_date > '2000-01-01'\n",
    "                    '''\n",
    "pd.io.sql.read_sql(books_count_query, con = engine)"
   ]
  },
  {
   "attachments": {},
   "cell_type": "markdown",
   "metadata": {},
   "source": [
    "После 1 января 2000 года вышла 821 книга"
   ]
  },
  {
   "cell_type": "code",
   "execution_count": 12,
   "metadata": {
    "scrolled": false
   },
   "outputs": [
    {
     "data": {
      "text/html": [
       "<div>\n",
       "<style scoped>\n",
       "    .dataframe tbody tr th:only-of-type {\n",
       "        vertical-align: middle;\n",
       "    }\n",
       "\n",
       "    .dataframe tbody tr th {\n",
       "        vertical-align: top;\n",
       "    }\n",
       "\n",
       "    .dataframe thead th {\n",
       "        text-align: right;\n",
       "    }\n",
       "</style>\n",
       "<table border=\"1\" class=\"dataframe\">\n",
       "  <thead>\n",
       "    <tr style=\"text-align: right;\">\n",
       "      <th></th>\n",
       "      <th>title</th>\n",
       "      <th>count</th>\n",
       "      <th>avg</th>\n",
       "    </tr>\n",
       "  </thead>\n",
       "  <tbody>\n",
       "    <tr>\n",
       "      <th>0</th>\n",
       "      <td>The Natural Way to Draw</td>\n",
       "      <td>0</td>\n",
       "      <td>3.000000</td>\n",
       "    </tr>\n",
       "    <tr>\n",
       "      <th>1</th>\n",
       "      <td>Anne Rice's The Vampire Lestat: A Graphic Novel</td>\n",
       "      <td>0</td>\n",
       "      <td>3.666667</td>\n",
       "    </tr>\n",
       "    <tr>\n",
       "      <th>2</th>\n",
       "      <td>Leonardo's Notebooks</td>\n",
       "      <td>0</td>\n",
       "      <td>4.000000</td>\n",
       "    </tr>\n",
       "    <tr>\n",
       "      <th>3</th>\n",
       "      <td>Essential Tales and Poems</td>\n",
       "      <td>0</td>\n",
       "      <td>4.000000</td>\n",
       "    </tr>\n",
       "    <tr>\n",
       "      <th>4</th>\n",
       "      <td>Disney's Beauty and the Beast (A Little Golden...</td>\n",
       "      <td>0</td>\n",
       "      <td>4.000000</td>\n",
       "    </tr>\n",
       "    <tr>\n",
       "      <th>...</th>\n",
       "      <td>...</td>\n",
       "      <td>...</td>\n",
       "      <td>...</td>\n",
       "    </tr>\n",
       "    <tr>\n",
       "      <th>995</th>\n",
       "      <td>The Glass Castle</td>\n",
       "      <td>6</td>\n",
       "      <td>4.206897</td>\n",
       "    </tr>\n",
       "    <tr>\n",
       "      <th>996</th>\n",
       "      <td>The Book Thief</td>\n",
       "      <td>6</td>\n",
       "      <td>4.264151</td>\n",
       "    </tr>\n",
       "    <tr>\n",
       "      <th>997</th>\n",
       "      <td>Harry Potter and the Chamber of Secrets (Harry...</td>\n",
       "      <td>6</td>\n",
       "      <td>4.287500</td>\n",
       "    </tr>\n",
       "    <tr>\n",
       "      <th>998</th>\n",
       "      <td>Harry Potter and the Prisoner of Azkaban (Harr...</td>\n",
       "      <td>6</td>\n",
       "      <td>4.414634</td>\n",
       "    </tr>\n",
       "    <tr>\n",
       "      <th>999</th>\n",
       "      <td>Twilight (Twilight  #1)</td>\n",
       "      <td>7</td>\n",
       "      <td>3.662500</td>\n",
       "    </tr>\n",
       "  </tbody>\n",
       "</table>\n",
       "<p>1000 rows × 3 columns</p>\n",
       "</div>"
      ],
      "text/plain": [
       "                                                 title  count       avg\n",
       "0                              The Natural Way to Draw      0  3.000000\n",
       "1      Anne Rice's The Vampire Lestat: A Graphic Novel      0  3.666667\n",
       "2                                 Leonardo's Notebooks      0  4.000000\n",
       "3                            Essential Tales and Poems      0  4.000000\n",
       "4    Disney's Beauty and the Beast (A Little Golden...      0  4.000000\n",
       "..                                                 ...    ...       ...\n",
       "995                                   The Glass Castle      6  4.206897\n",
       "996                                     The Book Thief      6  4.264151\n",
       "997  Harry Potter and the Chamber of Secrets (Harry...      6  4.287500\n",
       "998  Harry Potter and the Prisoner of Azkaban (Harr...      6  4.414634\n",
       "999                            Twilight (Twilight  #1)      7  3.662500\n",
       "\n",
       "[1000 rows x 3 columns]"
      ]
     },
     "execution_count": 12,
     "metadata": {},
     "output_type": "execute_result"
    }
   ],
   "source": [
    "#Для каждой книги посчитать количество обзоров и среднюю оценку;\n",
    "count_avg = \"SELECT b.title, COUNT(distinct(r.review_id)), AVG(rt.rating) FROM reviews r RIGHT JOIN books b ON r.book_id = b.book_id INNER JOIN ratings rt ON b.book_id = rt.book_id GROUP BY b.book_id ORDER BY count, avg\"\n",
    "pd.io.sql.read_sql(count_avg, con = engine)"
   ]
  },
  {
   "attachments": {},
   "cell_type": "markdown",
   "metadata": {},
   "source": [
    "Количество обзоров книг - от 0 до 7, а средний рейтинг книг - от 3.0 до 4.4"
   ]
  },
  {
   "cell_type": "code",
   "execution_count": 13,
   "metadata": {
    "scrolled": true
   },
   "outputs": [
    {
     "data": {
      "text/html": [
       "<div>\n",
       "<style scoped>\n",
       "    .dataframe tbody tr th:only-of-type {\n",
       "        vertical-align: middle;\n",
       "    }\n",
       "\n",
       "    .dataframe tbody tr th {\n",
       "        vertical-align: top;\n",
       "    }\n",
       "\n",
       "    .dataframe thead th {\n",
       "        text-align: right;\n",
       "    }\n",
       "</style>\n",
       "<table border=\"1\" class=\"dataframe\">\n",
       "  <thead>\n",
       "    <tr style=\"text-align: right;\">\n",
       "      <th></th>\n",
       "      <th>publisher</th>\n",
       "      <th>count</th>\n",
       "    </tr>\n",
       "  </thead>\n",
       "  <tbody>\n",
       "    <tr>\n",
       "      <th>0</th>\n",
       "      <td>Penguin Books</td>\n",
       "      <td>42</td>\n",
       "    </tr>\n",
       "  </tbody>\n",
       "</table>\n",
       "</div>"
      ],
      "text/plain": [
       "       publisher  count\n",
       "0  Penguin Books     42"
      ]
     },
     "execution_count": 13,
     "metadata": {},
     "output_type": "execute_result"
    }
   ],
   "source": [
    "#Определить издательство, которое выпустило наибольшее число книг толще 50 страниц — так вы исключите из анализа брошюры;\n",
    "publisher_count = \"SELECT p.publisher, COUNT(distinct(b.title)) FROM publishers p JOIN books b ON p.publisher_id=b.publisher_id WHERE num_pages > 50 GROUP BY p.publisher ORDER BY count desc LIMIT 1\"\n",
    "pd.io.sql.read_sql(publisher_count, con = engine)"
   ]
  },
  {
   "attachments": {},
   "cell_type": "markdown",
   "metadata": {},
   "source": [
    "Издательство, которое выпустило больше всего книг толще 50 страниц - Penguin Books, оно выпустило 42 книги"
   ]
  },
  {
   "cell_type": "code",
   "execution_count": 14,
   "metadata": {
    "scrolled": true
   },
   "outputs": [
    {
     "data": {
      "text/html": [
       "<div>\n",
       "<style scoped>\n",
       "    .dataframe tbody tr th:only-of-type {\n",
       "        vertical-align: middle;\n",
       "    }\n",
       "\n",
       "    .dataframe tbody tr th {\n",
       "        vertical-align: top;\n",
       "    }\n",
       "\n",
       "    .dataframe thead th {\n",
       "        text-align: right;\n",
       "    }\n",
       "</style>\n",
       "<table border=\"1\" class=\"dataframe\">\n",
       "  <thead>\n",
       "    <tr style=\"text-align: right;\">\n",
       "      <th></th>\n",
       "      <th>author</th>\n",
       "      <th>count</th>\n",
       "      <th>avg</th>\n",
       "    </tr>\n",
       "  </thead>\n",
       "  <tbody>\n",
       "    <tr>\n",
       "      <th>0</th>\n",
       "      <td>J.K. Rowling/Mary GrandPré</td>\n",
       "      <td>312</td>\n",
       "      <td>4.288462</td>\n",
       "    </tr>\n",
       "  </tbody>\n",
       "</table>\n",
       "</div>"
      ],
      "text/plain": [
       "                       author  count       avg\n",
       "0  J.K. Rowling/Mary GrandPré    312  4.288462"
      ]
     },
     "execution_count": 14,
     "metadata": {},
     "output_type": "execute_result"
    }
   ],
   "source": [
    "#Определить автора с самой высокой средней оценкой книг — учитывайте только книги с 50 и более оценками;\n",
    "author_avg_rating =\"SELECT a.author,COUNT(r.rating_id), AVG(r.rating) FROM authors a INNER JOIN books b ON b.author_id=a.author_id INNER JOIN ratings r ON r.book_id=b.book_id GROUP BY a.author HAVING COUNT(r.rating_id) > 50 ORDER BY AVG(r.rating) DESC LIMIT 1\"\n",
    "pd.io.sql.read_sql(author_avg_rating, con = engine)"
   ]
  },
  {
   "attachments": {},
   "cell_type": "markdown",
   "metadata": {},
   "source": [
    "Автор J.K. Rowling/Mary GrandPr имеет самую высокую среднюю оценку книг - 4.288 среди книг с 50ю оценками и более"
   ]
  },
  {
   "cell_type": "code",
   "execution_count": 56,
   "metadata": {},
   "outputs": [
    {
     "data": {
      "text/html": [
       "<div>\n",
       "<style scoped>\n",
       "    .dataframe tbody tr th:only-of-type {\n",
       "        vertical-align: middle;\n",
       "    }\n",
       "\n",
       "    .dataframe tbody tr th {\n",
       "        vertical-align: top;\n",
       "    }\n",
       "\n",
       "    .dataframe thead th {\n",
       "        text-align: right;\n",
       "    }\n",
       "</style>\n",
       "<table border=\"1\" class=\"dataframe\">\n",
       "  <thead>\n",
       "    <tr style=\"text-align: right;\">\n",
       "      <th></th>\n",
       "      <th>avg</th>\n",
       "    </tr>\n",
       "  </thead>\n",
       "  <tbody>\n",
       "    <tr>\n",
       "      <th>0</th>\n",
       "      <td>24.333333</td>\n",
       "    </tr>\n",
       "  </tbody>\n",
       "</table>\n",
       "</div>"
      ],
      "text/plain": [
       "         avg\n",
       "0  24.333333"
      ]
     },
     "execution_count": 56,
     "metadata": {},
     "output_type": "execute_result"
    }
   ],
   "source": [
    "#Посчитайть среднее количество обзоров от пользователей, которые поставили больше 50 оценок.\n",
    "o=''' SELECT AVG(b)\n",
    "FROM (SELECT r.username, COUNT(distinct r.review_id) AS b\n",
    "FROM (SELECT username, COUNT(DISTINCT rating_id)\n",
    "    FROM ratings\n",
    "    GROUP BY username\n",
    "    HAVING COUNT(DISTINCT rating_id)>50) AS o\n",
    "    JOIN reviews r ON r.username=o.username\n",
    "    GROUP BY r.username) AS v\n",
    "    '''\n",
    "pd.io.sql.read_sql(o, con = engine)"
   ]
  },
  {
   "attachments": {},
   "cell_type": "markdown",
   "metadata": {},
   "source": [
    "Cреднее количество обзоров от пользователей, которые поставили больше 50 оценок ~ 24.33"
   ]
  },
  {
   "attachments": {},
   "cell_type": "markdown",
   "metadata": {},
   "source": [
    "# Вывод"
   ]
  },
  {
   "attachments": {},
   "cell_type": "markdown",
   "metadata": {},
   "source": [
    "В ходе исследования проанализировали базу данных, а также решили поставленные задачи и получили следующие результаты:\n",
    "\n",
    "* После 1 января 2000 года вышла 821 книга\n",
    "* Количество обзоров книг - от 0 до 7, а средний рейтинг книг - от 3.0 до 4.4\n",
    "* Издательство, которое выпустило больше всего книг толще 50 страниц - Penguin Books, оно выпустило 42 книги\n",
    "* Автор J.K. Rowling/Mary GrandPr имеет самую высокую среднюю оценку книг - 4.288 среди книг с 50ю оценками и более\n",
    "* Cреднее количество обзоров от пользователей, которые поставили больше 50 оценок ~ 24.33"
   ]
  }
 ],
 "metadata": {
  "ExecuteTimeLog": [
   {
    "duration": 8455,
    "start_time": "2023-02-26T10:21:40.462Z"
   },
   {
    "duration": 63,
    "start_time": "2023-02-26T10:22:03.854Z"
   },
   {
    "duration": 8,
    "start_time": "2023-02-26T10:22:10.579Z"
   },
   {
    "duration": 7,
    "start_time": "2023-02-26T10:22:33.111Z"
   },
   {
    "duration": 8,
    "start_time": "2023-02-26T10:23:05.959Z"
   },
   {
    "duration": 10,
    "start_time": "2023-02-26T10:23:21.533Z"
   },
   {
    "duration": 225,
    "start_time": "2023-02-26T10:25:12.466Z"
   },
   {
    "duration": 38,
    "start_time": "2023-02-26T10:26:59.322Z"
   },
   {
    "duration": 120,
    "start_time": "2023-02-26T10:27:15.826Z"
   },
   {
    "duration": 5985,
    "start_time": "2023-02-26T10:29:14.691Z"
   },
   {
    "duration": 185,
    "start_time": "2023-02-26T10:29:30.459Z"
   },
   {
    "duration": 143,
    "start_time": "2023-02-26T10:29:36.468Z"
   },
   {
    "duration": 167,
    "start_time": "2023-02-26T10:29:42.873Z"
   },
   {
    "duration": 4033,
    "start_time": "2023-02-26T10:29:57.801Z"
   },
   {
    "duration": 182,
    "start_time": "2023-02-26T10:30:01.836Z"
   },
   {
    "duration": 2214,
    "start_time": "2023-02-26T10:30:12.101Z"
   },
   {
    "duration": 128,
    "start_time": "2023-02-26T10:30:14.318Z"
   },
   {
    "duration": 162,
    "start_time": "2023-02-26T10:30:50.076Z"
   },
   {
    "duration": 50,
    "start_time": "2023-02-26T10:32:01.682Z"
   },
   {
    "duration": 50,
    "start_time": "2023-02-26T10:32:15.541Z"
   },
   {
    "duration": 70,
    "start_time": "2023-02-26T10:32:52.388Z"
   },
   {
    "duration": 39,
    "start_time": "2023-02-26T10:33:28.548Z"
   },
   {
    "duration": 27,
    "start_time": "2023-02-26T10:34:08.816Z"
   },
   {
    "duration": 11,
    "start_time": "2023-02-26T10:34:20.922Z"
   },
   {
    "duration": 19,
    "start_time": "2023-02-26T10:34:30.993Z"
   },
   {
    "duration": 15,
    "start_time": "2023-02-26T10:34:51.472Z"
   },
   {
    "duration": 24,
    "start_time": "2023-02-26T10:35:59.523Z"
   },
   {
    "duration": 73,
    "start_time": "2023-02-26T10:39:12.176Z"
   },
   {
    "duration": 11,
    "start_time": "2023-02-26T10:41:40.871Z"
   },
   {
    "duration": 103,
    "start_time": "2023-02-26T10:51:01.279Z"
   },
   {
    "duration": 128,
    "start_time": "2023-02-26T10:51:27.775Z"
   },
   {
    "duration": 88,
    "start_time": "2023-02-26T10:52:10.697Z"
   },
   {
    "duration": 95,
    "start_time": "2023-02-26T10:53:36.535Z"
   },
   {
    "duration": 104,
    "start_time": "2023-02-26T10:53:56.850Z"
   },
   {
    "duration": 94,
    "start_time": "2023-02-26T10:54:01.839Z"
   },
   {
    "duration": 96,
    "start_time": "2023-02-26T10:54:48.639Z"
   },
   {
    "duration": 113,
    "start_time": "2023-02-26T10:55:13.511Z"
   },
   {
    "duration": 36,
    "start_time": "2023-02-26T10:55:28.056Z"
   },
   {
    "duration": 14,
    "start_time": "2023-02-26T10:55:38.825Z"
   },
   {
    "duration": 18,
    "start_time": "2023-02-26T10:56:10.838Z"
   },
   {
    "duration": 95,
    "start_time": "2023-02-26T10:56:50.958Z"
   },
   {
    "duration": 19,
    "start_time": "2023-02-26T10:56:56.216Z"
   },
   {
    "duration": 16,
    "start_time": "2023-02-26T10:57:08.456Z"
   },
   {
    "duration": 17,
    "start_time": "2023-02-26T10:57:17.339Z"
   },
   {
    "duration": 108,
    "start_time": "2023-02-26T10:58:29.024Z"
   },
   {
    "duration": 26,
    "start_time": "2023-02-26T10:58:43.143Z"
   },
   {
    "duration": 27,
    "start_time": "2023-02-26T10:59:05.883Z"
   },
   {
    "duration": 29,
    "start_time": "2023-02-26T10:59:25.568Z"
   },
   {
    "duration": 19,
    "start_time": "2023-02-26T10:59:47.984Z"
   },
   {
    "duration": 27,
    "start_time": "2023-02-26T10:59:51.369Z"
   },
   {
    "duration": 28,
    "start_time": "2023-02-26T11:00:22.358Z"
   },
   {
    "duration": 29,
    "start_time": "2023-02-26T11:00:25.959Z"
   },
   {
    "duration": 38,
    "start_time": "2023-02-26T11:00:38.382Z"
   },
   {
    "duration": 27,
    "start_time": "2023-02-26T11:00:45.294Z"
   },
   {
    "duration": 29,
    "start_time": "2023-02-26T11:00:54.997Z"
   },
   {
    "duration": 28,
    "start_time": "2023-02-26T11:01:26.959Z"
   },
   {
    "duration": 25,
    "start_time": "2023-02-26T11:01:34.565Z"
   },
   {
    "duration": 26,
    "start_time": "2023-02-26T11:01:42.958Z"
   },
   {
    "duration": 27,
    "start_time": "2023-02-26T11:01:47.880Z"
   },
   {
    "duration": 35,
    "start_time": "2023-02-26T11:02:19.753Z"
   },
   {
    "duration": 28,
    "start_time": "2023-02-26T11:02:26.860Z"
   },
   {
    "duration": 28,
    "start_time": "2023-02-26T11:02:39.566Z"
   },
   {
    "duration": 20,
    "start_time": "2023-02-26T11:03:17.971Z"
   },
   {
    "duration": 27,
    "start_time": "2023-02-26T11:03:53.213Z"
   },
   {
    "duration": 22,
    "start_time": "2023-02-26T11:05:22.361Z"
   },
   {
    "duration": 23,
    "start_time": "2023-02-26T11:06:55.672Z"
   },
   {
    "duration": 26,
    "start_time": "2023-02-26T11:07:18.877Z"
   },
   {
    "duration": 25,
    "start_time": "2023-02-26T11:07:34.934Z"
   },
   {
    "duration": 27,
    "start_time": "2023-02-26T11:07:43.399Z"
   },
   {
    "duration": 26,
    "start_time": "2023-02-26T11:07:49.151Z"
   },
   {
    "duration": 26,
    "start_time": "2023-02-26T11:10:12.567Z"
   },
   {
    "duration": 27,
    "start_time": "2023-02-26T11:11:07.719Z"
   },
   {
    "duration": 26,
    "start_time": "2023-02-26T11:11:20.327Z"
   },
   {
    "duration": 27,
    "start_time": "2023-02-26T11:11:42.338Z"
   },
   {
    "duration": 12,
    "start_time": "2023-02-26T11:11:51.206Z"
   },
   {
    "duration": 12,
    "start_time": "2023-02-26T11:12:03.759Z"
   },
   {
    "duration": 14,
    "start_time": "2023-02-26T11:12:28.118Z"
   },
   {
    "duration": 20,
    "start_time": "2023-02-26T11:13:13.854Z"
   },
   {
    "duration": 29,
    "start_time": "2023-02-26T11:13:30.620Z"
   },
   {
    "duration": 13,
    "start_time": "2023-02-26T11:14:36.756Z"
   },
   {
    "duration": 28,
    "start_time": "2023-02-26T11:15:16.589Z"
   },
   {
    "duration": 37,
    "start_time": "2023-02-26T11:15:38.326Z"
   },
   {
    "duration": 33,
    "start_time": "2023-02-26T11:16:15.252Z"
   },
   {
    "duration": 33,
    "start_time": "2023-02-26T11:16:34.460Z"
   },
   {
    "duration": 30,
    "start_time": "2023-02-26T11:16:37.523Z"
   },
   {
    "duration": 31,
    "start_time": "2023-02-26T11:17:10.942Z"
   },
   {
    "duration": 24,
    "start_time": "2023-02-26T11:17:26.635Z"
   },
   {
    "duration": 2563,
    "start_time": "2023-02-26T11:17:35.652Z"
   },
   {
    "duration": 53,
    "start_time": "2023-02-26T11:17:38.218Z"
   },
   {
    "duration": 23,
    "start_time": "2023-02-26T11:17:38.273Z"
   },
   {
    "duration": 10,
    "start_time": "2023-02-26T11:17:38.297Z"
   },
   {
    "duration": 34,
    "start_time": "2023-02-26T11:17:38.309Z"
   },
   {
    "duration": 19,
    "start_time": "2023-02-26T11:17:38.344Z"
   },
   {
    "duration": 35,
    "start_time": "2023-02-26T11:17:38.365Z"
   },
   {
    "duration": 21,
    "start_time": "2023-02-26T11:18:13.083Z"
   },
   {
    "duration": 17,
    "start_time": "2023-02-26T11:19:24.658Z"
   },
   {
    "duration": 33,
    "start_time": "2023-02-26T11:19:40.770Z"
   },
   {
    "duration": 97,
    "start_time": "2023-02-26T11:20:04.738Z"
   },
   {
    "duration": 295,
    "start_time": "2023-02-26T11:20:18.258Z"
   },
   {
    "duration": 297,
    "start_time": "2023-02-26T11:20:43.562Z"
   },
   {
    "duration": 35,
    "start_time": "2023-02-26T11:22:06.060Z"
   },
   {
    "duration": 91,
    "start_time": "2023-02-26T11:25:49.432Z"
   },
   {
    "duration": 93,
    "start_time": "2023-02-26T11:26:03.336Z"
   },
   {
    "duration": 16,
    "start_time": "2023-02-26T11:27:08.055Z"
   },
   {
    "duration": 16,
    "start_time": "2023-02-26T11:27:28.543Z"
   },
   {
    "duration": 17,
    "start_time": "2023-02-26T11:28:46.094Z"
   },
   {
    "duration": 15,
    "start_time": "2023-02-26T11:28:55.190Z"
   },
   {
    "duration": 12,
    "start_time": "2023-02-26T11:29:21.886Z"
   },
   {
    "duration": 15,
    "start_time": "2023-02-26T11:29:26.375Z"
   },
   {
    "duration": 16,
    "start_time": "2023-02-26T11:29:33.095Z"
   },
   {
    "duration": 12,
    "start_time": "2023-02-26T11:29:42.195Z"
   },
   {
    "duration": 13,
    "start_time": "2023-02-26T11:29:48.925Z"
   },
   {
    "duration": 12,
    "start_time": "2023-02-26T11:29:58.258Z"
   },
   {
    "duration": 32,
    "start_time": "2023-02-26T11:35:35.525Z"
   },
   {
    "duration": 34,
    "start_time": "2023-02-26T11:35:53.302Z"
   },
   {
    "duration": 31,
    "start_time": "2023-02-26T11:36:02.756Z"
   },
   {
    "duration": 34,
    "start_time": "2023-02-26T11:36:15.222Z"
   },
   {
    "duration": 31,
    "start_time": "2023-02-26T11:36:19.860Z"
   },
   {
    "duration": 32,
    "start_time": "2023-02-26T11:36:29.072Z"
   },
   {
    "duration": 32,
    "start_time": "2023-02-26T11:36:34.998Z"
   },
   {
    "duration": 18,
    "start_time": "2023-02-26T11:37:09.965Z"
   },
   {
    "duration": 18,
    "start_time": "2023-02-26T11:37:44.817Z"
   },
   {
    "duration": 19,
    "start_time": "2023-02-26T11:38:04.540Z"
   },
   {
    "duration": 22,
    "start_time": "2023-02-26T11:38:24.068Z"
   },
   {
    "duration": 21,
    "start_time": "2023-02-26T11:38:47.236Z"
   },
   {
    "duration": 30,
    "start_time": "2023-02-26T11:39:06.420Z"
   },
   {
    "duration": 3,
    "start_time": "2023-02-26T11:46:33.488Z"
   },
   {
    "duration": 124,
    "start_time": "2023-02-26T11:46:49.725Z"
   },
   {
    "duration": 92,
    "start_time": "2023-02-26T11:47:08.696Z"
   },
   {
    "duration": 96,
    "start_time": "2023-02-26T11:47:24.443Z"
   },
   {
    "duration": 106,
    "start_time": "2023-02-26T11:47:56.196Z"
   },
   {
    "duration": 123,
    "start_time": "2023-02-26T11:48:04.021Z"
   },
   {
    "duration": 103,
    "start_time": "2023-02-26T11:48:31.276Z"
   },
   {
    "duration": 91,
    "start_time": "2023-02-26T11:48:53.309Z"
   },
   {
    "duration": 4302,
    "start_time": "2023-02-26T11:49:08.580Z"
   },
   {
    "duration": 102,
    "start_time": "2023-02-26T11:49:24.748Z"
   },
   {
    "duration": 19,
    "start_time": "2023-02-26T11:49:42.069Z"
   },
   {
    "duration": 15,
    "start_time": "2023-02-26T11:50:18.243Z"
   },
   {
    "duration": 18,
    "start_time": "2023-02-26T11:50:26.547Z"
   },
   {
    "duration": 17,
    "start_time": "2023-02-26T11:50:33.083Z"
   },
   {
    "duration": 1976,
    "start_time": "2023-02-26T11:51:14.618Z"
   },
   {
    "duration": 103,
    "start_time": "2023-02-26T11:51:38.286Z"
   },
   {
    "duration": 102,
    "start_time": "2023-02-26T11:52:03.364Z"
   },
   {
    "duration": 737,
    "start_time": "2023-02-26T11:52:15.172Z"
   },
   {
    "duration": 19,
    "start_time": "2023-02-26T11:52:25.116Z"
   },
   {
    "duration": 2757,
    "start_time": "2023-02-26T11:52:33.650Z"
   },
   {
    "duration": 31,
    "start_time": "2023-02-26T11:54:10.412Z"
   },
   {
    "duration": 32,
    "start_time": "2023-02-26T11:54:43.882Z"
   },
   {
    "duration": 31,
    "start_time": "2023-02-26T11:55:39.791Z"
   },
   {
    "duration": 14,
    "start_time": "2023-02-26T11:57:15.739Z"
   },
   {
    "duration": 11,
    "start_time": "2023-02-26T11:58:56.957Z"
   },
   {
    "duration": 11,
    "start_time": "2023-02-26T11:59:48.991Z"
   },
   {
    "duration": 11,
    "start_time": "2023-02-26T12:00:02.339Z"
   },
   {
    "duration": 13,
    "start_time": "2023-02-26T12:00:18.538Z"
   },
   {
    "duration": 12,
    "start_time": "2023-02-26T12:00:30.513Z"
   },
   {
    "duration": 17,
    "start_time": "2023-02-26T12:01:14.211Z"
   },
   {
    "duration": 14,
    "start_time": "2023-02-26T12:03:18.178Z"
   },
   {
    "duration": 20,
    "start_time": "2023-02-26T12:03:38.570Z"
   },
   {
    "duration": 111,
    "start_time": "2023-02-26T12:05:27.345Z"
   },
   {
    "duration": 15,
    "start_time": "2023-02-26T12:05:42.330Z"
   },
   {
    "duration": 114,
    "start_time": "2023-02-26T12:05:53.997Z"
   },
   {
    "duration": 16,
    "start_time": "2023-02-26T12:06:05.457Z"
   },
   {
    "duration": 121,
    "start_time": "2023-02-26T12:11:05.971Z"
   },
   {
    "duration": 103,
    "start_time": "2023-02-26T12:11:30.409Z"
   },
   {
    "duration": 93,
    "start_time": "2023-02-26T12:11:34.817Z"
   },
   {
    "duration": 100,
    "start_time": "2023-02-26T12:12:35.188Z"
   },
   {
    "duration": 128,
    "start_time": "2023-02-26T12:12:50.674Z"
   },
   {
    "duration": 100,
    "start_time": "2023-02-26T12:13:05.137Z"
   },
   {
    "duration": 24,
    "start_time": "2023-02-26T12:13:13.585Z"
   },
   {
    "duration": 25,
    "start_time": "2023-02-26T12:13:42.178Z"
   },
   {
    "duration": 28,
    "start_time": "2023-02-26T12:14:13.672Z"
   },
   {
    "duration": 35,
    "start_time": "2023-02-26T12:15:54.524Z"
   },
   {
    "duration": 37,
    "start_time": "2023-02-26T12:16:05.509Z"
   },
   {
    "duration": 91,
    "start_time": "2023-02-26T12:16:53.795Z"
   },
   {
    "duration": 39,
    "start_time": "2023-02-26T12:17:36.961Z"
   },
   {
    "duration": 38,
    "start_time": "2023-02-26T12:18:00.055Z"
   },
   {
    "duration": 31,
    "start_time": "2023-02-26T12:18:15.896Z"
   },
   {
    "duration": 109,
    "start_time": "2023-02-26T12:18:26.391Z"
   },
   {
    "duration": 33,
    "start_time": "2023-02-26T12:18:47.888Z"
   },
   {
    "duration": 126,
    "start_time": "2023-02-26T12:20:46.319Z"
   },
   {
    "duration": 131,
    "start_time": "2023-02-26T12:20:56.359Z"
   },
   {
    "duration": 37,
    "start_time": "2023-02-26T12:23:56.558Z"
   },
   {
    "duration": 143,
    "start_time": "2023-02-26T12:24:25.486Z"
   },
   {
    "duration": 31,
    "start_time": "2023-02-26T12:24:58.836Z"
   },
   {
    "duration": 4,
    "start_time": "2023-02-26T12:26:14.949Z"
   },
   {
    "duration": 2951,
    "start_time": "2023-02-26T12:26:15.433Z"
   },
   {
    "duration": 53,
    "start_time": "2023-02-26T12:26:18.387Z"
   },
   {
    "duration": 18,
    "start_time": "2023-02-26T12:26:18.442Z"
   },
   {
    "duration": 14,
    "start_time": "2023-02-26T12:26:18.463Z"
   },
   {
    "duration": 18,
    "start_time": "2023-02-26T12:26:18.479Z"
   },
   {
    "duration": 17,
    "start_time": "2023-02-26T12:26:18.499Z"
   },
   {
    "duration": 39,
    "start_time": "2023-02-26T12:26:18.519Z"
   },
   {
    "duration": 13,
    "start_time": "2023-02-26T12:26:18.561Z"
   },
   {
    "duration": 48,
    "start_time": "2023-02-26T12:26:18.576Z"
   },
   {
    "duration": 19,
    "start_time": "2023-02-26T12:26:19.232Z"
   },
   {
    "duration": 22,
    "start_time": "2023-02-26T12:26:19.573Z"
   },
   {
    "duration": 33,
    "start_time": "2023-02-26T12:26:19.908Z"
   },
   {
    "duration": 69,
    "start_time": "2023-02-26T12:31:50.203Z"
   },
   {
    "duration": 13,
    "start_time": "2023-02-26T12:32:22.754Z"
   },
   {
    "duration": 14,
    "start_time": "2023-02-26T12:36:12.954Z"
   },
   {
    "duration": 126,
    "start_time": "2023-02-26T12:36:39.827Z"
   },
   {
    "duration": 14,
    "start_time": "2023-02-26T12:36:51.986Z"
   },
   {
    "duration": 12,
    "start_time": "2023-02-26T12:39:48.681Z"
   },
   {
    "duration": 3,
    "start_time": "2023-02-26T12:44:05.809Z"
   },
   {
    "duration": 2586,
    "start_time": "2023-02-26T12:44:05.814Z"
   },
   {
    "duration": 45,
    "start_time": "2023-02-26T12:44:08.402Z"
   },
   {
    "duration": 15,
    "start_time": "2023-02-26T12:44:08.449Z"
   },
   {
    "duration": 14,
    "start_time": "2023-02-26T12:44:08.467Z"
   },
   {
    "duration": 17,
    "start_time": "2023-02-26T12:44:08.483Z"
   },
   {
    "duration": 12,
    "start_time": "2023-02-26T12:44:08.502Z"
   },
   {
    "duration": 12,
    "start_time": "2023-02-26T12:44:08.516Z"
   },
   {
    "duration": 35,
    "start_time": "2023-02-26T12:44:08.530Z"
   },
   {
    "duration": 92,
    "start_time": "2023-02-26T12:44:08.566Z"
   },
   {
    "duration": 13,
    "start_time": "2023-02-26T12:44:08.660Z"
   },
   {
    "duration": 80,
    "start_time": "2023-02-26T12:44:08.674Z"
   },
   {
    "duration": 14,
    "start_time": "2023-02-26T12:44:08.758Z"
   },
   {
    "duration": 16,
    "start_time": "2023-02-26T12:44:08.774Z"
   },
   {
    "duration": 30,
    "start_time": "2023-02-26T12:44:08.792Z"
   },
   {
    "duration": 5,
    "start_time": "2023-02-26T12:44:10.151Z"
   },
   {
    "duration": 2247,
    "start_time": "2023-02-26T12:44:10.338Z"
   },
   {
    "duration": 50,
    "start_time": "2023-02-26T12:44:12.587Z"
   },
   {
    "duration": 13,
    "start_time": "2023-02-26T12:44:12.639Z"
   },
   {
    "duration": 12,
    "start_time": "2023-02-26T12:44:12.654Z"
   },
   {
    "duration": 11,
    "start_time": "2023-02-26T12:44:12.668Z"
   },
   {
    "duration": 14,
    "start_time": "2023-02-26T12:44:12.681Z"
   },
   {
    "duration": 17,
    "start_time": "2023-02-26T12:44:12.697Z"
   },
   {
    "duration": 13,
    "start_time": "2023-02-26T12:44:12.716Z"
   },
   {
    "duration": 34,
    "start_time": "2023-02-26T12:44:12.731Z"
   },
   {
    "duration": 14,
    "start_time": "2023-02-26T12:44:13.279Z"
   },
   {
    "duration": 35,
    "start_time": "2023-02-26T12:44:14.263Z"
   },
   {
    "duration": 18,
    "start_time": "2023-02-26T12:44:15.263Z"
   },
   {
    "duration": 18,
    "start_time": "2023-02-26T12:44:16.111Z"
   },
   {
    "duration": 31,
    "start_time": "2023-02-26T12:44:17.392Z"
   },
   {
    "duration": 507,
    "start_time": "2023-02-26T23:16:16.406Z"
   },
   {
    "duration": 5266,
    "start_time": "2023-02-26T23:16:16.915Z"
   },
   {
    "duration": 8208,
    "start_time": "2023-02-26T23:16:22.183Z"
   },
   {
    "duration": 13,
    "start_time": "2023-02-26T23:16:30.392Z"
   },
   {
    "duration": 25,
    "start_time": "2023-02-26T23:16:30.407Z"
   },
   {
    "duration": 21,
    "start_time": "2023-02-26T23:16:30.435Z"
   },
   {
    "duration": 36,
    "start_time": "2023-02-26T23:16:30.458Z"
   },
   {
    "duration": 31,
    "start_time": "2023-02-26T23:16:30.495Z"
   },
   {
    "duration": 24,
    "start_time": "2023-02-26T23:16:30.528Z"
   },
   {
    "duration": 32,
    "start_time": "2023-02-26T23:16:30.553Z"
   },
   {
    "duration": 16,
    "start_time": "2023-02-26T23:16:30.587Z"
   },
   {
    "duration": 50,
    "start_time": "2023-02-26T23:16:30.604Z"
   },
   {
    "duration": 12,
    "start_time": "2023-02-26T23:16:30.656Z"
   },
   {
    "duration": 19,
    "start_time": "2023-02-26T23:16:30.670Z"
   },
   {
    "duration": 42,
    "start_time": "2023-02-26T23:16:30.690Z"
   },
   {
    "duration": 73,
    "start_time": "2023-02-27T08:27:00.055Z"
   },
   {
    "duration": 555,
    "start_time": "2023-02-27T08:27:06.407Z"
   },
   {
    "duration": 5439,
    "start_time": "2023-02-27T08:27:06.964Z"
   },
   {
    "duration": 5879,
    "start_time": "2023-02-27T08:27:12.406Z"
   },
   {
    "duration": 80,
    "start_time": "2023-02-27T08:27:18.288Z"
   },
   {
    "duration": 79,
    "start_time": "2023-02-27T08:27:18.370Z"
   },
   {
    "duration": 77,
    "start_time": "2023-02-27T08:27:18.451Z"
   },
   {
    "duration": 77,
    "start_time": "2023-02-27T08:27:18.530Z"
   },
   {
    "duration": 83,
    "start_time": "2023-02-27T08:27:18.609Z"
   },
   {
    "duration": 79,
    "start_time": "2023-02-27T08:27:18.694Z"
   },
   {
    "duration": 80,
    "start_time": "2023-02-27T08:27:18.775Z"
   },
   {
    "duration": 207,
    "start_time": "2023-02-27T08:27:18.857Z"
   },
   {
    "duration": 145,
    "start_time": "2023-02-27T08:27:27.953Z"
   },
   {
    "duration": 58,
    "start_time": "2023-02-27T08:27:37.225Z"
   },
   {
    "duration": 160,
    "start_time": "2023-02-27T08:27:55.054Z"
   },
   {
    "duration": 48,
    "start_time": "2023-02-27T08:28:07.298Z"
   },
   {
    "duration": 139,
    "start_time": "2023-02-27T08:28:12.758Z"
   },
   {
    "duration": 80,
    "start_time": "2023-02-27T08:28:38.165Z"
   },
   {
    "duration": 74,
    "start_time": "2023-02-27T08:29:27.810Z"
   },
   {
    "duration": 77,
    "start_time": "2023-02-27T08:32:53.579Z"
   },
   {
    "duration": 82,
    "start_time": "2023-02-27T08:33:04.079Z"
   },
   {
    "duration": 5,
    "start_time": "2023-02-27T08:45:10.296Z"
   },
   {
    "duration": 98,
    "start_time": "2023-02-27T08:45:32.738Z"
   },
   {
    "duration": 132,
    "start_time": "2023-02-27T08:46:22.123Z"
   },
   {
    "duration": 137,
    "start_time": "2023-02-27T08:46:47.586Z"
   },
   {
    "duration": 146,
    "start_time": "2023-02-27T08:47:18.888Z"
   },
   {
    "duration": 183,
    "start_time": "2023-02-27T08:47:30.169Z"
   },
   {
    "duration": 78,
    "start_time": "2023-02-27T08:47:36.805Z"
   },
   {
    "duration": 4,
    "start_time": "2023-02-27T08:51:05.516Z"
   },
   {
    "duration": 158,
    "start_time": "2023-02-27T08:51:18.201Z"
   },
   {
    "duration": 176,
    "start_time": "2023-02-27T08:51:48.470Z"
   },
   {
    "duration": 149,
    "start_time": "2023-02-27T08:52:32.155Z"
   },
   {
    "duration": 141,
    "start_time": "2023-02-27T08:52:38.145Z"
   },
   {
    "duration": 4,
    "start_time": "2023-02-27T08:52:45.980Z"
   },
   {
    "duration": 151,
    "start_time": "2023-02-27T08:52:46.960Z"
   },
   {
    "duration": 160,
    "start_time": "2023-02-27T08:53:32.142Z"
   },
   {
    "duration": 207,
    "start_time": "2023-02-27T08:53:43.859Z"
   },
   {
    "duration": 82,
    "start_time": "2023-02-27T08:53:49.082Z"
   },
   {
    "duration": 87,
    "start_time": "2023-02-27T08:54:14.918Z"
   },
   {
    "duration": 139,
    "start_time": "2023-02-27T08:54:22.058Z"
   },
   {
    "duration": 84,
    "start_time": "2023-02-27T08:54:33.693Z"
   },
   {
    "duration": 3,
    "start_time": "2023-02-27T08:55:40.870Z"
   },
   {
    "duration": 81,
    "start_time": "2023-02-27T08:55:41.171Z"
   },
   {
    "duration": 117,
    "start_time": "2023-02-27T08:55:52.123Z"
   },
   {
    "duration": 82,
    "start_time": "2023-02-27T08:55:56.404Z"
   },
   {
    "duration": 2504,
    "start_time": "2023-02-27T08:56:12.589Z"
   },
   {
    "duration": 80,
    "start_time": "2023-02-27T08:56:30.622Z"
   },
   {
    "duration": 143,
    "start_time": "2023-02-27T09:05:16.201Z"
   },
   {
    "duration": 163,
    "start_time": "2023-02-27T09:06:32.533Z"
   },
   {
    "duration": 165,
    "start_time": "2023-02-27T09:09:59.954Z"
   },
   {
    "duration": 147,
    "start_time": "2023-02-27T09:10:36.602Z"
   },
   {
    "duration": 81,
    "start_time": "2023-02-27T09:11:00.464Z"
   },
   {
    "duration": 161,
    "start_time": "2023-02-27T09:14:51.408Z"
   },
   {
    "duration": 78,
    "start_time": "2023-02-27T09:14:59.897Z"
   },
   {
    "duration": 81,
    "start_time": "2023-02-27T09:25:48.691Z"
   },
   {
    "duration": 96,
    "start_time": "2023-02-27T09:26:00.295Z"
   }
  ],
  "kernelspec": {
   "display_name": "Python 3 (ipykernel)",
   "language": "python",
   "name": "python3"
  },
  "language_info": {
   "codemirror_mode": {
    "name": "ipython",
    "version": 3
   },
   "file_extension": ".py",
   "mimetype": "text/x-python",
   "name": "python",
   "nbconvert_exporter": "python",
   "pygments_lexer": "ipython3",
   "version": "3.9.5"
  },
  "toc": {
   "base_numbering": 1,
   "nav_menu": {},
   "number_sections": true,
   "sideBar": true,
   "skip_h1_title": true,
   "title_cell": "Table of Contents",
   "title_sidebar": "Contents",
   "toc_cell": false,
   "toc_position": {},
   "toc_section_display": true,
   "toc_window_display": true
  }
 },
 "nbformat": 4,
 "nbformat_minor": 2
}
